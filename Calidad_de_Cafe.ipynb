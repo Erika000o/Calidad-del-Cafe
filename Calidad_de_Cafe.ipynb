{
  "nbformat": 4,
  "nbformat_minor": 0,
  "metadata": {
    "colab": {
      "provenance": [],
      "gpuType": "V28",
      "authorship_tag": "ABX9TyPrG6qOtrpdjeRTHUGlIOlq",
      "include_colab_link": true
    },
    "kernelspec": {
      "name": "python3",
      "display_name": "Python 3"
    },
    "language_info": {
      "name": "python"
    },
    "accelerator": "TPU"
  },
  "cells": [
    {
      "cell_type": "markdown",
      "metadata": {
        "id": "view-in-github",
        "colab_type": "text"
      },
      "source": [
        "<a href=\"https://colab.research.google.com/github/Erika000o/Calidad-del-Cafe/blob/main/Calidad_de_Cafe.ipynb\" target=\"_parent\"><img src=\"https://colab.research.google.com/assets/colab-badge.svg\" alt=\"Open In Colab\"/></a>"
      ]
    },
    {
      "cell_type": "code",
      "source": [
        "# Paso 1: Descargar y descomprimir el dataset\n",
        "# Asegúrate de haber cargado tu archivo kaggle.json antes de ejecutar este paso\n",
        "!pip install kaggle  # Instalar Kaggle si no lo tienes\n",
        "!mkdir ~/.kaggle  # Crear el directorio para las credenciales\n",
        "!cp kaggle.json ~/.kaggle/  # Copiar el archivo kaggle.json\n",
        "!chmod 600 ~/.kaggle/kaggle.json  # Establecer permisos\n",
        "\n",
        "# Descargar el dataset desde Kaggle\n",
        "!kaggle datasets download -d volpatto/coffee-quality-database-from-cqi\n",
        "\n",
        "# Descomprimir el archivo descargado\n",
        "!unzip coffee-quality-database-from-cqi.zip -d coffee_data\n"
      ],
      "metadata": {
        "colab": {
          "base_uri": "https://localhost:8080/"
        },
        "id": "TvldZo9JC1eJ",
        "outputId": "f5249e8d-758e-4197-9aaa-3637eca4f90f"
      },
      "execution_count": 3,
      "outputs": [
        {
          "output_type": "stream",
          "name": "stdout",
          "text": [
            "Requirement already satisfied: kaggle in /usr/local/lib/python3.10/dist-packages (1.6.17)\n",
            "Requirement already satisfied: six>=1.10 in /usr/local/lib/python3.10/dist-packages (from kaggle) (1.16.0)\n",
            "Requirement already satisfied: certifi>=2023.7.22 in /usr/local/lib/python3.10/dist-packages (from kaggle) (2024.8.30)\n",
            "Requirement already satisfied: python-dateutil in /usr/local/lib/python3.10/dist-packages (from kaggle) (2.9.0.post0)\n",
            "Requirement already satisfied: requests in /usr/local/lib/python3.10/dist-packages (from kaggle) (2.32.3)\n",
            "Requirement already satisfied: tqdm in /usr/local/lib/python3.10/dist-packages (from kaggle) (4.66.6)\n",
            "Requirement already satisfied: python-slugify in /usr/local/lib/python3.10/dist-packages (from kaggle) (8.0.4)\n",
            "Requirement already satisfied: urllib3 in /usr/local/lib/python3.10/dist-packages (from kaggle) (2.2.3)\n",
            "Requirement already satisfied: bleach in /usr/local/lib/python3.10/dist-packages (from kaggle) (6.2.0)\n",
            "Requirement already satisfied: webencodings in /usr/local/lib/python3.10/dist-packages (from bleach->kaggle) (0.5.1)\n",
            "Requirement already satisfied: text-unidecode>=1.3 in /usr/local/lib/python3.10/dist-packages (from python-slugify->kaggle) (1.3)\n",
            "Requirement already satisfied: charset-normalizer<4,>=2 in /usr/local/lib/python3.10/dist-packages (from requests->kaggle) (3.4.0)\n",
            "Requirement already satisfied: idna<4,>=2.5 in /usr/local/lib/python3.10/dist-packages (from requests->kaggle) (3.10)\n",
            "cp: cannot stat 'kaggle.json': No such file or directory\n",
            "chmod: cannot access '/root/.kaggle/kaggle.json': No such file or directory\n",
            "Dataset URL: https://www.kaggle.com/datasets/volpatto/coffee-quality-database-from-cqi\n",
            "License(s): DbCL-1.0\n",
            "coffee-quality-database-from-cqi.zip: Skipping, found more recently modified local copy (use --force to force download)\n",
            "Archive:  coffee-quality-database-from-cqi.zip\n",
            "replace coffee_data/arabica_data_cleaned.csv? [y]es, [n]o, [A]ll, [N]one, [r]ename: n\n",
            "replace coffee_data/merged_data_cleaned.csv? [y]es, [n]o, [A]ll, [N]one, [r]ename: N\n"
          ]
        }
      ]
    },
    {
      "cell_type": "code",
      "source": [
        "# Importar librerías necesarias\n",
        "import pandas as pd\n",
        "from sklearn.model_selection import train_test_split\n",
        "from sklearn.preprocessing import StandardScaler, LabelEncoder\n",
        "from sklearn.metrics import classification_report\n",
        "import tensorflow as tf\n",
        "\n",
        "# Cargar el dataset desde el archivo descomprimido\n",
        "# Ajustar el nombre del archivo si es diferente\n",
        "df = pd.read_csv('/content/coffee_data/arabica_data_cleaned.csv')\n",
        "\n",
        "# Mostrar las primeras filas para inspeccionar el dataset\n",
        "print(\"Primeras filas del dataset:\")\n",
        "print(df.head())\n",
        "\n",
        "# Listar las columnas disponibles para identificar las necesarias\n",
        "print(\"\\nColumnas del dataset:\")\n",
        "print(df.columns)\n"
      ],
      "metadata": {
        "colab": {
          "base_uri": "https://localhost:8080/"
        },
        "id": "9V7wo2yaDENy",
        "outputId": "482d0413-3d99-4548-84aa-33e790162af5"
      },
      "execution_count": 4,
      "outputs": [
        {
          "output_type": "stream",
          "name": "stdout",
          "text": [
            "Primeras filas del dataset:\n",
            "   Unnamed: 0  Species                     Owner Country.of.Origin  \\\n",
            "0           1  Arabica                 metad plc          Ethiopia   \n",
            "1           2  Arabica                 metad plc          Ethiopia   \n",
            "2           3  Arabica  grounds for health admin         Guatemala   \n",
            "3           4  Arabica       yidnekachew dabessa          Ethiopia   \n",
            "4           5  Arabica                 metad plc          Ethiopia   \n",
            "\n",
            "                                  Farm.Name Lot.Number       Mill ICO.Number  \\\n",
            "0                                 metad plc        NaN  metad plc  2014/2015   \n",
            "1                                 metad plc        NaN  metad plc  2014/2015   \n",
            "2  san marcos barrancas \"san cristobal cuch        NaN        NaN        NaN   \n",
            "3     yidnekachew dabessa coffee plantation        NaN    wolensu        NaN   \n",
            "4                                 metad plc        NaN  metad plc  2014/2015   \n",
            "\n",
            "                                 Company       Altitude  ...  Color  \\\n",
            "0      metad agricultural developmet plc      1950-2200  ...  Green   \n",
            "1      metad agricultural developmet plc      1950-2200  ...  Green   \n",
            "2                                    NaN  1600 - 1800 m  ...    NaN   \n",
            "3  yidnekachew debessa coffee plantation      1800-2200  ...  Green   \n",
            "4      metad agricultural developmet plc      1950-2200  ...  Green   \n",
            "\n",
            "  Category.Two.Defects        Expiration                  Certification.Body  \\\n",
            "0                    0   April 3rd, 2016  METAD Agricultural Development plc   \n",
            "1                    1   April 3rd, 2016  METAD Agricultural Development plc   \n",
            "2                    0    May 31st, 2011        Specialty Coffee Association   \n",
            "3                    2  March 25th, 2016  METAD Agricultural Development plc   \n",
            "4                    2   April 3rd, 2016  METAD Agricultural Development plc   \n",
            "\n",
            "                      Certification.Address  \\\n",
            "0  309fcf77415a3661ae83e027f7e5f05dad786e44   \n",
            "1  309fcf77415a3661ae83e027f7e5f05dad786e44   \n",
            "2  36d0d00a3724338ba7937c52a378d085f2172daa   \n",
            "3  309fcf77415a3661ae83e027f7e5f05dad786e44   \n",
            "4  309fcf77415a3661ae83e027f7e5f05dad786e44   \n",
            "\n",
            "                      Certification.Contact unit_of_measurement  \\\n",
            "0  19fef5a731de2db57d16da10287413f5f99bc2dd                   m   \n",
            "1  19fef5a731de2db57d16da10287413f5f99bc2dd                   m   \n",
            "2  0878a7d4b9d35ddbf0fe2ce69a2062cceb45a660                   m   \n",
            "3  19fef5a731de2db57d16da10287413f5f99bc2dd                   m   \n",
            "4  19fef5a731de2db57d16da10287413f5f99bc2dd                   m   \n",
            "\n",
            "  altitude_low_meters altitude_high_meters altitude_mean_meters  \n",
            "0              1950.0               2200.0               2075.0  \n",
            "1              1950.0               2200.0               2075.0  \n",
            "2              1600.0               1800.0               1700.0  \n",
            "3              1800.0               2200.0               2000.0  \n",
            "4              1950.0               2200.0               2075.0  \n",
            "\n",
            "[5 rows x 44 columns]\n",
            "\n",
            "Columnas del dataset:\n",
            "Index(['Unnamed: 0', 'Species', 'Owner', 'Country.of.Origin', 'Farm.Name',\n",
            "       'Lot.Number', 'Mill', 'ICO.Number', 'Company', 'Altitude', 'Region',\n",
            "       'Producer', 'Number.of.Bags', 'Bag.Weight', 'In.Country.Partner',\n",
            "       'Harvest.Year', 'Grading.Date', 'Owner.1', 'Variety',\n",
            "       'Processing.Method', 'Aroma', 'Flavor', 'Aftertaste', 'Acidity', 'Body',\n",
            "       'Balance', 'Uniformity', 'Clean.Cup', 'Sweetness', 'Cupper.Points',\n",
            "       'Total.Cup.Points', 'Moisture', 'Category.One.Defects', 'Quakers',\n",
            "       'Color', 'Category.Two.Defects', 'Expiration', 'Certification.Body',\n",
            "       'Certification.Address', 'Certification.Contact', 'unit_of_measurement',\n",
            "       'altitude_low_meters', 'altitude_high_meters', 'altitude_mean_meters'],\n",
            "      dtype='object')\n"
          ]
        }
      ]
    },
    {
      "cell_type": "code",
      "source": [
        "# Verificar si 'Total Cup Points' existe\n",
        "if 'Total Cup Points' not in df.columns:\n",
        "    print(\"'Total Cup Points' no está en el dataset. Revisa las columnas disponibles.\")\n",
        "    print(df.columns)  # Listar las columnas para buscar una alternativa"
      ],
      "metadata": {
        "colab": {
          "base_uri": "https://localhost:8080/"
        },
        "id": "E8MA6pKJF6va",
        "outputId": "a3ff3d39-e948-4e86-be3e-6a6ab61b619b"
      },
      "execution_count": 11,
      "outputs": [
        {
          "output_type": "stream",
          "name": "stdout",
          "text": [
            "'Total Cup Points' no está en el dataset. Revisa las columnas disponibles.\n",
            "Index(['Unnamed: 0', 'Species', 'Owner', 'Country.of.Origin', 'Farm.Name',\n",
            "       'Lot.Number', 'Mill', 'ICO.Number', 'Company', 'Altitude', 'Region',\n",
            "       'Producer', 'Number.of.Bags', 'Bag.Weight', 'In.Country.Partner',\n",
            "       'Harvest.Year', 'Grading.Date', 'Owner.1', 'Variety',\n",
            "       'Processing.Method', 'Aroma', 'Flavor', 'Aftertaste', 'Acidity', 'Body',\n",
            "       'Balance', 'Uniformity', 'Clean.Cup', 'Sweetness', 'Cupper.Points',\n",
            "       'Total.Cup.Points', 'Moisture', 'Category.One.Defects', 'Quakers',\n",
            "       'Color', 'Category.Two.Defects', 'Expiration', 'Certification.Body',\n",
            "       'Certification.Address', 'Certification.Contact', 'unit_of_measurement',\n",
            "       'altitude_low_meters', 'altitude_high_meters', 'altitude_mean_meters'],\n",
            "      dtype='object')\n"
          ]
        }
      ]
    },
    {
      "cell_type": "code",
      "source": [
        "# Ajustar las columnas seleccionadas\n",
        "features = ['Aroma', 'Flavor', 'Aftertaste', 'Acidity', 'Body',\n",
        "            'Balance', 'Uniformity', 'Clean.Cup', 'Sweetness', 'Moisture', 'Category.One.Defects']  # Ajustar nombres exactos\n",
        "\n",
        "# Crear la nueva columna 'Quality Category'\n",
        "if 'Total.Cup.Points' in df.columns:\n",
        "    df['Quality Category'] = pd.cut(df['Total.Cup.Points'],  # Ajuste al nombre correcto\n",
        "                                    bins=[0, 80, 85, 90, 100],\n",
        "                                    labels=['Low', 'Medium', 'High', 'Excellent'])\n",
        "    target = 'Quality Category'\n",
        "else:\n",
        "    raise ValueError(\"'Total.Cup.Points' no está en el dataset. Ajusta el código.\")\n",
        "\n",
        "# Verificar las columnas seleccionadas\n",
        "missing_columns = [col for col in features + [target] if col not in df.columns]\n",
        "if missing_columns:\n",
        "    raise ValueError(f\"Las siguientes columnas no se encontraron en el dataset: {missing_columns}\")\n",
        "\n",
        "# Filtrar datos\n",
        "df = df[features + [target]].dropna()\n",
        "print(f\"Datos restantes: {len(df)} filas.\")\n",
        "\n",
        "# Dividir en características (X) y etiquetas (y)\n",
        "X = df[features].values\n",
        "y = df[target].values\n",
        "\n",
        "# Codificar etiquetas\n",
        "encoder = LabelEncoder()\n",
        "y_encoded = encoder.fit_transform(y)\n",
        "\n",
        "# Escalar características\n",
        "scaler = StandardScaler()\n",
        "X_scaled = scaler.fit_transform(X)\n",
        "\n",
        "# División en entrenamiento y prueba\n",
        "X_train, X_test, y_train, y_test = train_test_split(X_scaled, y_encoded, test_size=0.3, random_state=42)\n",
        "\n",
        "print(\"Preparación de datos completada.\")\n"
      ],
      "metadata": {
        "colab": {
          "base_uri": "https://localhost:8080/"
        },
        "id": "DesR9PIADG43",
        "outputId": "06566c39-bc64-4718-b072-4cdc764c08dd"
      },
      "execution_count": 13,
      "outputs": [
        {
          "output_type": "stream",
          "name": "stdout",
          "text": [
            "Datos restantes: 1310 filas.\n",
            "Preparación de datos completada.\n"
          ]
        }
      ]
    },
    {
      "cell_type": "code",
      "source": [
        "# Crear el modelo de red neuronal\n",
        "model = tf.keras.Sequential([\n",
        "    tf.keras.layers.Dense(64, activation='relu', input_shape=(X_train.shape[1],)),  # Capa densa con 64 neuronas\n",
        "    tf.keras.layers.Dropout(0.3),  # Regularización para evitar overfitting\n",
        "    tf.keras.layers.Dense(32, activation='relu'),  # Capa intermedia\n",
        "    tf.keras.layers.Dense(len(set(y_encoded)), activation='softmax')  # Capa de salida (una para cada clase)\n",
        "])\n",
        "\n",
        "# Compilar el modelo con Adam como optimizador y entropía cruzada como función de pérdida\n",
        "model.compile(optimizer='adam', loss='sparse_categorical_crossentropy', metrics=['accuracy'])\n",
        "\n",
        "# Entrenar el modelo\n",
        "history = model.fit(X_train, y_train, epochs=100, batch_size=32, validation_split=0.2, verbose=1)\n"
      ],
      "metadata": {
        "colab": {
          "base_uri": "https://localhost:8080/"
        },
        "id": "yKLG-WViDJQg",
        "outputId": "4b19f668-0cd1-41b1-9d0b-dcfc85ea642d"
      },
      "execution_count": 19,
      "outputs": [
        {
          "output_type": "stream",
          "name": "stdout",
          "text": [
            "Epoch 1/100\n",
            "23/23 [==============================] - 1s 10ms/step - loss: 1.2370 - accuracy: 0.4870 - val_loss: 1.0229 - val_accuracy: 0.8261\n",
            "Epoch 2/100\n",
            "23/23 [==============================] - 0s 4ms/step - loss: 0.9376 - accuracy: 0.7995 - val_loss: 0.7513 - val_accuracy: 0.8261\n",
            "Epoch 3/100\n",
            "23/23 [==============================] - 0s 4ms/step - loss: 0.7066 - accuracy: 0.8390 - val_loss: 0.5391 - val_accuracy: 0.8641\n",
            "Epoch 4/100\n",
            "23/23 [==============================] - 0s 4ms/step - loss: 0.5320 - accuracy: 0.8622 - val_loss: 0.3891 - val_accuracy: 0.9076\n",
            "Epoch 5/100\n",
            "23/23 [==============================] - 0s 4ms/step - loss: 0.3920 - accuracy: 0.8950 - val_loss: 0.2892 - val_accuracy: 0.9293\n",
            "Epoch 6/100\n",
            "23/23 [==============================] - 0s 4ms/step - loss: 0.3238 - accuracy: 0.9018 - val_loss: 0.2319 - val_accuracy: 0.9348\n",
            "Epoch 7/100\n",
            "23/23 [==============================] - 0s 4ms/step - loss: 0.2836 - accuracy: 0.9127 - val_loss: 0.1998 - val_accuracy: 0.9348\n",
            "Epoch 8/100\n",
            "23/23 [==============================] - 0s 4ms/step - loss: 0.2525 - accuracy: 0.9168 - val_loss: 0.1823 - val_accuracy: 0.9402\n",
            "Epoch 9/100\n",
            "23/23 [==============================] - 0s 4ms/step - loss: 0.2418 - accuracy: 0.9154 - val_loss: 0.1716 - val_accuracy: 0.9348\n",
            "Epoch 10/100\n",
            "23/23 [==============================] - 0s 4ms/step - loss: 0.2160 - accuracy: 0.9263 - val_loss: 0.1573 - val_accuracy: 0.9457\n",
            "Epoch 11/100\n",
            "23/23 [==============================] - 0s 4ms/step - loss: 0.2149 - accuracy: 0.9236 - val_loss: 0.1522 - val_accuracy: 0.9457\n",
            "Epoch 12/100\n",
            "23/23 [==============================] - 0s 4ms/step - loss: 0.1899 - accuracy: 0.9345 - val_loss: 0.1436 - val_accuracy: 0.9511\n",
            "Epoch 13/100\n",
            "23/23 [==============================] - 0s 4ms/step - loss: 0.2007 - accuracy: 0.9277 - val_loss: 0.1356 - val_accuracy: 0.9511\n",
            "Epoch 14/100\n",
            "23/23 [==============================] - 0s 4ms/step - loss: 0.1734 - accuracy: 0.9332 - val_loss: 0.1374 - val_accuracy: 0.9511\n",
            "Epoch 15/100\n",
            "23/23 [==============================] - 0s 4ms/step - loss: 0.1734 - accuracy: 0.9441 - val_loss: 0.1312 - val_accuracy: 0.9511\n",
            "Epoch 16/100\n",
            "23/23 [==============================] - 0s 3ms/step - loss: 0.1774 - accuracy: 0.9359 - val_loss: 0.1294 - val_accuracy: 0.9565\n",
            "Epoch 17/100\n",
            "23/23 [==============================] - 0s 3ms/step - loss: 0.1690 - accuracy: 0.9468 - val_loss: 0.1328 - val_accuracy: 0.9565\n",
            "Epoch 18/100\n",
            "23/23 [==============================] - 0s 4ms/step - loss: 0.1696 - accuracy: 0.9454 - val_loss: 0.1262 - val_accuracy: 0.9511\n",
            "Epoch 19/100\n",
            "23/23 [==============================] - 0s 4ms/step - loss: 0.1460 - accuracy: 0.9468 - val_loss: 0.1302 - val_accuracy: 0.9457\n",
            "Epoch 20/100\n",
            "23/23 [==============================] - 0s 3ms/step - loss: 0.1557 - accuracy: 0.9495 - val_loss: 0.1225 - val_accuracy: 0.9565\n",
            "Epoch 21/100\n",
            "23/23 [==============================] - 0s 4ms/step - loss: 0.1551 - accuracy: 0.9468 - val_loss: 0.1198 - val_accuracy: 0.9511\n",
            "Epoch 22/100\n",
            "23/23 [==============================] - 0s 4ms/step - loss: 0.1366 - accuracy: 0.9604 - val_loss: 0.1177 - val_accuracy: 0.9565\n",
            "Epoch 23/100\n",
            "23/23 [==============================] - 0s 3ms/step - loss: 0.1425 - accuracy: 0.9454 - val_loss: 0.1153 - val_accuracy: 0.9565\n",
            "Epoch 24/100\n",
            "23/23 [==============================] - 0s 4ms/step - loss: 0.1415 - accuracy: 0.9550 - val_loss: 0.1149 - val_accuracy: 0.9565\n",
            "Epoch 25/100\n",
            "23/23 [==============================] - 0s 3ms/step - loss: 0.1299 - accuracy: 0.9523 - val_loss: 0.1096 - val_accuracy: 0.9511\n",
            "Epoch 26/100\n",
            "23/23 [==============================] - 0s 3ms/step - loss: 0.1457 - accuracy: 0.9413 - val_loss: 0.1100 - val_accuracy: 0.9511\n",
            "Epoch 27/100\n",
            "23/23 [==============================] - 0s 4ms/step - loss: 0.1305 - accuracy: 0.9400 - val_loss: 0.1135 - val_accuracy: 0.9511\n",
            "Epoch 28/100\n",
            "23/23 [==============================] - 0s 4ms/step - loss: 0.1190 - accuracy: 0.9618 - val_loss: 0.1124 - val_accuracy: 0.9565\n",
            "Epoch 29/100\n",
            "23/23 [==============================] - 0s 4ms/step - loss: 0.1380 - accuracy: 0.9536 - val_loss: 0.1129 - val_accuracy: 0.9511\n",
            "Epoch 30/100\n",
            "23/23 [==============================] - 0s 3ms/step - loss: 0.1375 - accuracy: 0.9523 - val_loss: 0.1094 - val_accuracy: 0.9620\n",
            "Epoch 31/100\n",
            "23/23 [==============================] - 0s 3ms/step - loss: 0.1077 - accuracy: 0.9618 - val_loss: 0.1127 - val_accuracy: 0.9620\n",
            "Epoch 32/100\n",
            "23/23 [==============================] - 0s 3ms/step - loss: 0.1226 - accuracy: 0.9495 - val_loss: 0.1115 - val_accuracy: 0.9457\n",
            "Epoch 33/100\n",
            "23/23 [==============================] - 0s 3ms/step - loss: 0.1189 - accuracy: 0.9563 - val_loss: 0.1076 - val_accuracy: 0.9565\n",
            "Epoch 34/100\n",
            "23/23 [==============================] - 0s 4ms/step - loss: 0.1177 - accuracy: 0.9550 - val_loss: 0.1071 - val_accuracy: 0.9511\n",
            "Epoch 35/100\n",
            "23/23 [==============================] - 0s 3ms/step - loss: 0.1323 - accuracy: 0.9509 - val_loss: 0.1111 - val_accuracy: 0.9511\n",
            "Epoch 36/100\n",
            "23/23 [==============================] - 0s 4ms/step - loss: 0.1173 - accuracy: 0.9482 - val_loss: 0.1128 - val_accuracy: 0.9620\n",
            "Epoch 37/100\n",
            "23/23 [==============================] - 0s 3ms/step - loss: 0.1110 - accuracy: 0.9591 - val_loss: 0.1181 - val_accuracy: 0.9457\n",
            "Epoch 38/100\n",
            "23/23 [==============================] - 0s 3ms/step - loss: 0.1019 - accuracy: 0.9604 - val_loss: 0.1084 - val_accuracy: 0.9620\n",
            "Epoch 39/100\n",
            "23/23 [==============================] - 0s 3ms/step - loss: 0.1184 - accuracy: 0.9563 - val_loss: 0.1172 - val_accuracy: 0.9511\n",
            "Epoch 40/100\n",
            "23/23 [==============================] - 0s 4ms/step - loss: 0.0987 - accuracy: 0.9659 - val_loss: 0.1142 - val_accuracy: 0.9457\n",
            "Epoch 41/100\n",
            "23/23 [==============================] - 0s 4ms/step - loss: 0.0961 - accuracy: 0.9686 - val_loss: 0.1186 - val_accuracy: 0.9457\n",
            "Epoch 42/100\n",
            "23/23 [==============================] - 0s 3ms/step - loss: 0.1126 - accuracy: 0.9604 - val_loss: 0.1154 - val_accuracy: 0.9565\n",
            "Epoch 43/100\n",
            "23/23 [==============================] - 0s 3ms/step - loss: 0.1032 - accuracy: 0.9604 - val_loss: 0.1083 - val_accuracy: 0.9565\n",
            "Epoch 44/100\n",
            "23/23 [==============================] - 0s 3ms/step - loss: 0.1089 - accuracy: 0.9618 - val_loss: 0.1122 - val_accuracy: 0.9565\n",
            "Epoch 45/100\n",
            "23/23 [==============================] - 0s 3ms/step - loss: 0.1022 - accuracy: 0.9673 - val_loss: 0.1085 - val_accuracy: 0.9511\n",
            "Epoch 46/100\n",
            "23/23 [==============================] - 0s 3ms/step - loss: 0.0980 - accuracy: 0.9632 - val_loss: 0.1075 - val_accuracy: 0.9511\n",
            "Epoch 47/100\n",
            "23/23 [==============================] - 0s 3ms/step - loss: 0.0892 - accuracy: 0.9659 - val_loss: 0.1101 - val_accuracy: 0.9511\n",
            "Epoch 48/100\n",
            "23/23 [==============================] - 0s 3ms/step - loss: 0.1022 - accuracy: 0.9604 - val_loss: 0.1049 - val_accuracy: 0.9457\n",
            "Epoch 49/100\n",
            "23/23 [==============================] - 0s 3ms/step - loss: 0.1015 - accuracy: 0.9632 - val_loss: 0.1026 - val_accuracy: 0.9620\n",
            "Epoch 50/100\n",
            "23/23 [==============================] - 0s 4ms/step - loss: 0.0951 - accuracy: 0.9673 - val_loss: 0.1040 - val_accuracy: 0.9511\n",
            "Epoch 51/100\n",
            "23/23 [==============================] - 0s 3ms/step - loss: 0.0942 - accuracy: 0.9686 - val_loss: 0.1034 - val_accuracy: 0.9511\n",
            "Epoch 52/100\n",
            "23/23 [==============================] - 0s 3ms/step - loss: 0.0887 - accuracy: 0.9673 - val_loss: 0.1098 - val_accuracy: 0.9402\n",
            "Epoch 53/100\n",
            "23/23 [==============================] - 0s 3ms/step - loss: 0.0947 - accuracy: 0.9645 - val_loss: 0.1128 - val_accuracy: 0.9511\n",
            "Epoch 54/100\n",
            "23/23 [==============================] - 0s 3ms/step - loss: 0.0855 - accuracy: 0.9673 - val_loss: 0.1074 - val_accuracy: 0.9511\n",
            "Epoch 55/100\n",
            "23/23 [==============================] - 0s 4ms/step - loss: 0.0969 - accuracy: 0.9714 - val_loss: 0.1116 - val_accuracy: 0.9511\n",
            "Epoch 56/100\n",
            "23/23 [==============================] - 0s 3ms/step - loss: 0.0902 - accuracy: 0.9754 - val_loss: 0.1100 - val_accuracy: 0.9457\n",
            "Epoch 57/100\n",
            "23/23 [==============================] - 0s 3ms/step - loss: 0.0891 - accuracy: 0.9686 - val_loss: 0.1144 - val_accuracy: 0.9457\n",
            "Epoch 58/100\n",
            "23/23 [==============================] - 0s 3ms/step - loss: 0.0791 - accuracy: 0.9782 - val_loss: 0.1135 - val_accuracy: 0.9457\n",
            "Epoch 59/100\n",
            "23/23 [==============================] - 0s 3ms/step - loss: 0.0867 - accuracy: 0.9714 - val_loss: 0.1085 - val_accuracy: 0.9511\n",
            "Epoch 60/100\n",
            "23/23 [==============================] - 0s 3ms/step - loss: 0.0841 - accuracy: 0.9714 - val_loss: 0.1061 - val_accuracy: 0.9620\n",
            "Epoch 61/100\n",
            "23/23 [==============================] - 0s 3ms/step - loss: 0.0856 - accuracy: 0.9632 - val_loss: 0.1076 - val_accuracy: 0.9565\n",
            "Epoch 62/100\n",
            "23/23 [==============================] - 0s 4ms/step - loss: 0.0772 - accuracy: 0.9686 - val_loss: 0.1114 - val_accuracy: 0.9620\n",
            "Epoch 63/100\n",
            "23/23 [==============================] - 0s 4ms/step - loss: 0.0802 - accuracy: 0.9700 - val_loss: 0.1065 - val_accuracy: 0.9620\n",
            "Epoch 64/100\n",
            "23/23 [==============================] - 0s 3ms/step - loss: 0.0789 - accuracy: 0.9782 - val_loss: 0.1051 - val_accuracy: 0.9565\n",
            "Epoch 65/100\n",
            "23/23 [==============================] - 0s 3ms/step - loss: 0.0679 - accuracy: 0.9795 - val_loss: 0.1063 - val_accuracy: 0.9511\n",
            "Epoch 66/100\n",
            "23/23 [==============================] - 0s 3ms/step - loss: 0.0837 - accuracy: 0.9727 - val_loss: 0.1073 - val_accuracy: 0.9511\n",
            "Epoch 67/100\n",
            "23/23 [==============================] - 0s 3ms/step - loss: 0.0803 - accuracy: 0.9686 - val_loss: 0.1091 - val_accuracy: 0.9402\n",
            "Epoch 68/100\n",
            "23/23 [==============================] - 0s 3ms/step - loss: 0.0760 - accuracy: 0.9714 - val_loss: 0.1068 - val_accuracy: 0.9511\n",
            "Epoch 69/100\n",
            "23/23 [==============================] - 0s 3ms/step - loss: 0.0757 - accuracy: 0.9686 - val_loss: 0.1129 - val_accuracy: 0.9565\n",
            "Epoch 70/100\n",
            "23/23 [==============================] - 0s 3ms/step - loss: 0.0718 - accuracy: 0.9741 - val_loss: 0.1082 - val_accuracy: 0.9565\n",
            "Epoch 71/100\n",
            "23/23 [==============================] - 0s 3ms/step - loss: 0.0740 - accuracy: 0.9754 - val_loss: 0.1060 - val_accuracy: 0.9565\n",
            "Epoch 72/100\n",
            "23/23 [==============================] - 0s 3ms/step - loss: 0.0717 - accuracy: 0.9809 - val_loss: 0.1118 - val_accuracy: 0.9620\n",
            "Epoch 73/100\n",
            "23/23 [==============================] - 0s 3ms/step - loss: 0.0796 - accuracy: 0.9768 - val_loss: 0.1107 - val_accuracy: 0.9511\n",
            "Epoch 74/100\n",
            "23/23 [==============================] - 0s 3ms/step - loss: 0.0806 - accuracy: 0.9768 - val_loss: 0.1170 - val_accuracy: 0.9565\n",
            "Epoch 75/100\n",
            "23/23 [==============================] - 0s 3ms/step - loss: 0.0660 - accuracy: 0.9700 - val_loss: 0.1059 - val_accuracy: 0.9565\n",
            "Epoch 76/100\n",
            "23/23 [==============================] - 0s 3ms/step - loss: 0.0733 - accuracy: 0.9741 - val_loss: 0.1020 - val_accuracy: 0.9511\n",
            "Epoch 77/100\n",
            "23/23 [==============================] - 0s 4ms/step - loss: 0.0812 - accuracy: 0.9714 - val_loss: 0.1076 - val_accuracy: 0.9511\n",
            "Epoch 78/100\n",
            "23/23 [==============================] - 0s 4ms/step - loss: 0.0720 - accuracy: 0.9714 - val_loss: 0.1093 - val_accuracy: 0.9457\n",
            "Epoch 79/100\n",
            "23/23 [==============================] - 0s 4ms/step - loss: 0.0645 - accuracy: 0.9768 - val_loss: 0.1111 - val_accuracy: 0.9511\n",
            "Epoch 80/100\n",
            "23/23 [==============================] - 0s 4ms/step - loss: 0.0739 - accuracy: 0.9700 - val_loss: 0.1085 - val_accuracy: 0.9511\n",
            "Epoch 81/100\n",
            "23/23 [==============================] - 0s 4ms/step - loss: 0.0642 - accuracy: 0.9823 - val_loss: 0.1143 - val_accuracy: 0.9620\n",
            "Epoch 82/100\n",
            "23/23 [==============================] - 0s 3ms/step - loss: 0.0738 - accuracy: 0.9700 - val_loss: 0.1245 - val_accuracy: 0.9565\n",
            "Epoch 83/100\n",
            "23/23 [==============================] - 0s 3ms/step - loss: 0.0602 - accuracy: 0.9741 - val_loss: 0.1135 - val_accuracy: 0.9565\n",
            "Epoch 84/100\n",
            "23/23 [==============================] - 0s 3ms/step - loss: 0.0601 - accuracy: 0.9782 - val_loss: 0.1183 - val_accuracy: 0.9565\n",
            "Epoch 85/100\n",
            "23/23 [==============================] - 0s 4ms/step - loss: 0.0696 - accuracy: 0.9741 - val_loss: 0.1157 - val_accuracy: 0.9511\n",
            "Epoch 86/100\n",
            "23/23 [==============================] - 0s 3ms/step - loss: 0.0779 - accuracy: 0.9754 - val_loss: 0.1157 - val_accuracy: 0.9511\n",
            "Epoch 87/100\n",
            "23/23 [==============================] - 0s 3ms/step - loss: 0.0682 - accuracy: 0.9754 - val_loss: 0.1122 - val_accuracy: 0.9511\n",
            "Epoch 88/100\n",
            "23/23 [==============================] - 0s 3ms/step - loss: 0.0656 - accuracy: 0.9795 - val_loss: 0.1139 - val_accuracy: 0.9511\n",
            "Epoch 89/100\n",
            "23/23 [==============================] - 0s 4ms/step - loss: 0.0754 - accuracy: 0.9714 - val_loss: 0.1090 - val_accuracy: 0.9511\n",
            "Epoch 90/100\n",
            "23/23 [==============================] - 0s 4ms/step - loss: 0.0629 - accuracy: 0.9754 - val_loss: 0.1067 - val_accuracy: 0.9565\n",
            "Epoch 91/100\n",
            "23/23 [==============================] - 0s 3ms/step - loss: 0.0567 - accuracy: 0.9795 - val_loss: 0.1109 - val_accuracy: 0.9511\n",
            "Epoch 92/100\n",
            "23/23 [==============================] - 0s 3ms/step - loss: 0.0674 - accuracy: 0.9754 - val_loss: 0.1167 - val_accuracy: 0.9511\n",
            "Epoch 93/100\n",
            "23/23 [==============================] - 0s 3ms/step - loss: 0.0539 - accuracy: 0.9823 - val_loss: 0.1191 - val_accuracy: 0.9565\n",
            "Epoch 94/100\n",
            "23/23 [==============================] - 0s 3ms/step - loss: 0.0634 - accuracy: 0.9823 - val_loss: 0.1144 - val_accuracy: 0.9511\n",
            "Epoch 95/100\n",
            "23/23 [==============================] - 0s 3ms/step - loss: 0.0753 - accuracy: 0.9673 - val_loss: 0.1235 - val_accuracy: 0.9511\n",
            "Epoch 96/100\n",
            "23/23 [==============================] - 0s 3ms/step - loss: 0.0602 - accuracy: 0.9768 - val_loss: 0.1283 - val_accuracy: 0.9402\n",
            "Epoch 97/100\n",
            "23/23 [==============================] - 0s 3ms/step - loss: 0.0679 - accuracy: 0.9768 - val_loss: 0.1319 - val_accuracy: 0.9402\n",
            "Epoch 98/100\n",
            "23/23 [==============================] - 0s 3ms/step - loss: 0.0594 - accuracy: 0.9795 - val_loss: 0.1170 - val_accuracy: 0.9565\n",
            "Epoch 99/100\n",
            "23/23 [==============================] - 0s 3ms/step - loss: 0.0636 - accuracy: 0.9754 - val_loss: 0.1154 - val_accuracy: 0.9565\n",
            "Epoch 100/100\n",
            "23/23 [==============================] - 0s 3ms/step - loss: 0.0526 - accuracy: 0.9836 - val_loss: 0.1151 - val_accuracy: 0.9620\n"
          ]
        }
      ]
    },
    {
      "cell_type": "code",
      "source": [
        "# Verificar las clases presentes en el conjunto de prueba\n",
        "classes_in_test = set(y_test)\n",
        "target_names = [name for i, name in enumerate(encoder.classes_) if i in classes_in_test]\n",
        "\n",
        "# Imprimir el reporte de clasificación con las clases correctas\n",
        "print(\"\\nReporte de Clasificación:\")\n",
        "print(classification_report(y_test, y_pred, target_names=target_names))\n"
      ],
      "metadata": {
        "colab": {
          "base_uri": "https://localhost:8080/"
        },
        "id": "T2rjh5byDSCj",
        "outputId": "669f4595-b8aa-4e86-c0e3-49420abd5768"
      },
      "execution_count": 20,
      "outputs": [
        {
          "output_type": "stream",
          "name": "stdout",
          "text": [
            "\n",
            "Reporte de Clasificación:\n",
            "              precision    recall  f1-score   support\n",
            "\n",
            "        High       1.00      0.83      0.90        23\n",
            "         Low       0.94      0.88      0.91        52\n",
            "      Medium       0.97      0.99      0.98       318\n",
            "\n",
            "    accuracy                           0.97       393\n",
            "   macro avg       0.97      0.90      0.93       393\n",
            "weighted avg       0.97      0.97      0.97       393\n",
            "\n"
          ]
        }
      ]
    },
    {
      "cell_type": "markdown",
      "source": [],
      "metadata": {
        "id": "mqK8bzGZIMwr"
      }
    },
    {
      "cell_type": "code",
      "source": [
        "import matplotlib.pyplot as plt\n",
        "\n",
        "# Gráfico de precisión y pérdida\n",
        "plt.figure(figsize=(12, 5))\n",
        "\n",
        "# Precisión\n",
        "plt.subplot(1, 2, 1)\n",
        "plt.plot(history.history['accuracy'], label='Entrenamiento')\n",
        "plt.plot(history.history['val_accuracy'], label='Validación')\n",
        "plt.title('Precisión')\n",
        "plt.xlabel('Épocas')\n",
        "plt.ylabel('Precisión')\n",
        "plt.legend()\n",
        "\n",
        "# Pérdida\n",
        "plt.subplot(1, 2, 2)\n",
        "plt.plot(history.history['loss'], label='Entrenamiento')\n",
        "plt.plot(history.history['val_loss'], label='Validación')\n",
        "plt.title('Pérdida')\n",
        "plt.xlabel('Épocas')\n",
        "plt.ylabel('Pérdida')\n",
        "plt.legend()\n",
        "\n",
        "plt.tight_layout()\n",
        "plt.show()\n"
      ],
      "metadata": {
        "colab": {
          "base_uri": "https://localhost:8080/",
          "height": 388
        },
        "id": "mGStMA46DTr-",
        "outputId": "a529b537-ce28-4d63-d093-0782cee7b04b"
      },
      "execution_count": 21,
      "outputs": [
        {
          "output_type": "display_data",
          "data": {
            "text/plain": [
              "<Figure size 1200x500 with 2 Axes>"
            ],
            "image/png": "[encoded data removed]"
          },
          "metadata": {}
        }
      ]
    }
  ]
}